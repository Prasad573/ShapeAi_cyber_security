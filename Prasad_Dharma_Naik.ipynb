{
  "nbformat": 4,
  "nbformat_minor": 0,
  "metadata": {
    "colab": {
      "name": "Prasad Dharma Naik.ipynb",
      "provenance": [],
      "collapsed_sections": []
    },
    "kernelspec": {
      "name": "python3",
      "display_name": "Python 3"
    },
    "language_info": {
      "name": "python"
    }
  },
  "cells": [
    {
      "cell_type": "code",
      "metadata": {
        "colab": {
          "base_uri": "https://localhost:8080/"
        },
        "id": "FPVO7xmRYvs0",
        "outputId": "59c3a8ed-f2e8-4731-da3b-86f6045b6fa9"
      },
      "source": [
        "import requests\n",
        "\n",
        "from datetime import datetime\n",
        "\n",
        "api_key = 'bcd7328627ef5f1a4d0917b9163e3d5e'\n",
        "location = input(\"enter the city name: \")\n",
        "\n",
        "complete_api_link = \"https://api.openweathermap.org/data/2.5/weather?q=\"+location+\"&appid=\"+api_key\n",
        "api_link  = requests.get(complete_api_link)\n",
        "api_data = api_link.json()\n",
        "\n",
        "temp_city = ((api_data['main']['temp'])-273.15)\n",
        "weather_desc = api_data['weather'][0]['description']\n",
        "hdmt = api_data['main']['humidity']\n",
        "wind_spd = api_data['wind']['speed']\n",
        "date_time = datetime.now().strftime(\"%d %b %Y | %I:%M:%S %p\")\n",
        "\n",
        "print(\"______________________________________________________________\")\n",
        "print(\"weather stats for - {} || {}\".format(location.upper(), date_time))\n",
        "print(\"______________________________________________________________\")\n",
        "\n",
        "print(\"current temperature is: {:.2f} deg C\".format(temp_city))\n",
        "print(\"current weather desc  :\",weather_desc)\n",
        "print(\"current humidity      :\",hdmt, '%')\n",
        "print(\"current wind speed    :\",wind_spd,'kmph')\n",
        "\n"
      ],
      "execution_count": 7,
      "outputs": [
        {
          "output_type": "stream",
          "text": [
            "enter the city name: honnavara\n",
            "______________________________________________________________\n",
            "weather stats for - HONNAVARA || 23 Jun 2021 | 10:53:17 AM\n",
            "______________________________________________________________\n",
            "current temperature is: 27.82 deg C\n",
            "current weather desc  : overcast clouds\n",
            "current humidity      : 47 %\n",
            "current wind speed    : 5.14 kmph\n"
          ],
          "name": "stdout"
        }
      ]
    }
  ]
}